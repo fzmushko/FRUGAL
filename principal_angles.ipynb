{
 "cells": [
  {
   "cell_type": "code",
   "execution_count": 1,
   "metadata": {},
   "outputs": [],
   "source": [
    "from tqdm import tqdm\n",
    "import torch\n",
    "import numpy as np\n",
    "import matplotlib.pyplot as plt\n",
    "\n",
    "import matplotlib\n",
    "\n",
    "# plt.rc('text', usetex=True)\n",
    "# plt.rc('font', family='serif')\n",
    "\n",
    "\n",
    "%config InlineBackend.figure_format = 'retina'\n",
    "matplotlib.rcParams.update({\n",
    "        \"font.family\": \"serif\",\n",
    "       \"font.serif\": [\"DejaVu Serif\", \"Bitstream Vera Serif\", \"Computer Modern Roman\", \"New Century Schoolbook\", \"Century Schoolbook L\", \"Utopia\", \"ITC Bookman\", \"Bookman\", \"Nimbus Roman No9 L\", \"Times New Roman\", \"Times\", \"Palatino\", \"Charter\", \"serif\"],\n",
    "        \"axes.labelsize\": 18,\n",
    "        \"font.size\": 18,\n",
    "        \"legend.fontsize\": 16,\n",
    "        \"xtick.labelsize\": 18,\n",
    "        \"ytick.labelsize\": 18,\n",
    "})"
   ]
  },
  {
   "cell_type": "code",
   "execution_count": 2,
   "metadata": {},
   "outputs": [],
   "source": [
    "collected_grads = torch.load(\"./adam_c4_grads/grad_dicts.pt\")"
   ]
  },
  {
   "cell_type": "code",
   "execution_count": 3,
   "metadata": {},
   "outputs": [],
   "source": [
    "def principal_angles(Q1, Q2):\n",
    "    _, S, _ = torch.linalg.svd(Q1.T @ Q2)\n",
    "    return S"
   ]
  },
  {
   "cell_type": "code",
   "execution_count": 4,
   "metadata": {},
   "outputs": [],
   "source": [
    "R1 = torch.nn.init.orthogonal_(torch.empty(512,512))[:, :128]\n",
    "R2 = torch.nn.init.orthogonal_(torch.empty(512,512))[:, :128]\n",
    "random_semiorthogonal_angles = principal_angles(R1, R2)"
   ]
  },
  {
   "cell_type": "code",
   "execution_count": 5,
   "metadata": {},
   "outputs": [],
   "source": [
    "projections_dict = {}\n",
    "steps = [1000, 1100, 2000, 10000, 99000]\n",
    "for step in steps:\n",
    "    projections_dict[step] = torch.linalg.svd(collected_grads[29][step])[0][:, :128]"
   ]
  },
  {
   "cell_type": "code",
   "execution_count": 6,
   "metadata": {},
   "outputs": [],
   "source": [
    "angles_dict = {}\n",
    "for step in steps[1:]:\n",
    "    angles_dict[step] = principal_angles(projections_dict[steps[0]], projections_dict[step])"
   ]
  },
  {
   "cell_type": "code",
   "execution_count": null,
   "metadata": {},
   "outputs": [],
   "source": [
    "for step in steps[1:]:\n",
    "    print(f\"steps: (1000, {step})\\t number of cosines larger than 0.87: \", (angles_dict[step] > 0.87).sum().item())"
   ]
  },
  {
   "cell_type": "code",
   "execution_count": null,
   "metadata": {},
   "outputs": [],
   "source": [
    "fig, axs = plt.subplots(1, 4, figsize=(25, 5))\n",
    "indices = steps[2:]\n",
    "\n",
    "for i, index in enumerate(indices):\n",
    "    if index in angles_dict:\n",
    "        axs[i].hist(angles_dict[index], bins=30, edgecolor='black')\n",
    "        axs[i].set_title(f'{1000} and {index}', fontsize=45)\n",
    "        axs[i].set_xlabel('Principal cosines', fontsize=45)\n",
    "        if not i:\n",
    "            axs[i].set_ylabel('Frequency', fontsize=45)\n",
    "    else:\n",
    "        axs[i].text(0.5, 0.5, f'No data for index {index}', \n",
    "                    ha='center', va='center', transform=axs[i].transAxes)\n",
    "\n",
    "axs[3].hist(random_semiorthogonal_angles, bins=30, edgecolor='black')\n",
    "axs[3].set_title('Random', fontsize=45)\n",
    "axs[3].set_xlabel('Principal cosines', fontsize=45)\n",
    "\n",
    "plt.tight_layout()\n",
    "plt.savefig(f'4_histograms.pdf', bbox_inches='tight')"
   ]
  },
  {
   "cell_type": "code",
   "execution_count": null,
   "metadata": {},
   "outputs": [],
   "source": [
    "fig, axs = plt.subplots(1, 5, figsize=(25, 5))\n",
    "indices = steps[1:]\n",
    "\n",
    "for i, index in enumerate(indices):\n",
    "    if index in angles_dict:\n",
    "        axs[i].hist(angles_dict[index], bins=30, edgecolor='black')\n",
    "        axs[i].set_title(f'Iterations 1000 and {index}')\n",
    "        axs[i].set_xlabel('Principal angle cosines')\n",
    "        if not i:\n",
    "            axs[i].set_ylabel('Frequency')\n",
    "    else:\n",
    "        axs[i].text(0.5, 0.5, f'No data for index {index}', \n",
    "                    ha='center', va='center', transform=axs[i].transAxes)\n",
    "\n",
    "axs[4].hist(random_semiorthogonal_angles, bins=30, edgecolor='black')\n",
    "axs[4].set_title('Random semiorthogonal')\n",
    "axs[4].set_xlabel('Principal angle cosines')\n",
    "axs[4].set_ylabel('Frequency')\n",
    "\n",
    "plt.tight_layout()\n",
    "plt.savefig(f'5_histograms.pdf', bbox_inches='tight')"
   ]
  },
  {
   "cell_type": "code",
   "execution_count": null,
   "metadata": {},
   "outputs": [],
   "source": []
  }
 ],
 "metadata": {
  "kernelspec": {
   "display_name": "lora",
   "language": "python",
   "name": "python3"
  },
  "language_info": {
   "codemirror_mode": {
    "name": "ipython",
    "version": 3
   },
   "file_extension": ".py",
   "mimetype": "text/x-python",
   "name": "python",
   "nbconvert_exporter": "python",
   "pygments_lexer": "ipython3",
   "version": "3.9.19"
  }
 },
 "nbformat": 4,
 "nbformat_minor": 2
}
